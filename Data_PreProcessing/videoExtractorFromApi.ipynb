{
 "cells": [
  {
   "cell_type": "code",
   "execution_count": 1,
   "id": "d4762d14-1083-45be-a301-4983edc0ff9a",
   "metadata": {},
   "outputs": [
    {
     "name": "stdout",
     "output_type": "stream",
     "text": [
      "Downloading video from https://res.cloudinary.com/dizy4a4m2/video/upload/v1726123514/StudyNotion/lfkfcmqalfounw0ptryv.mp4\n",
      "Progress: [##################################################] 2711056/2711056 bytes\n",
      "Download complete!\n",
      "Video downloaded successfully. You can find it at: downloaded_video.mp4\n"
     ]
    }
   ],
   "source": [
    "import json\n",
    "import requests\n",
    "\n",
    "# The API response (replace this with your actual API call if needed)\n",
    "api_response = '''\n",
    "{\"success\":true,\"data\":[{\"_id\":\"66e28db3e03af0d0f22e0ecd\",\"courseName\":\"Test\",\"courseDescription\":\"abc\",\"instructor\":{\"_id\":\"6677d220393e1df3f48f239e\",\"firstName\":\"Priyanshu\",\"lastName\":\"Ganatra\",\"email\":\"cpetest3008@gmail.com\",\"password\":\"$2b$10$vNRVXxPEGsaip8ohRgZJgeGSZ53Oc.kWf4rK.dXxsB9fjwb79.53a\",\"accountType\":\"Instructor\",\"active\":true,\"approved\":true,\"additionalDetails\":\"6677d220393e1df3f48f239c\",\"courses\":[\"6677d2fc393e1df3f48f23ae\",\"66d989db6712836c67f462b4\",\"66d98c186712836c67f462cd\",\"66d998706712836c67f46301\",\"66df020847509780510af20b\",\"66df238147509780510af220\",\"66df45b9c633d8e24eb78252\",\"66df54425d4e94a19a902832\",\"66df55f85d4e94a19a902896\",\"66e28db3e03af0d0f22e0ecd\"],\"image\":\"\",\"courseProgress\":[],\"createdAt\":\"2024-06-23T07:43:28.540Z\",\"updatedAt\":\"2024-09-12T06:44:03.317Z\",\"__v\":0,\"resetPasswordExpires\":\"2024-09-05T11:31:30.545Z\",\"token\":\"b5849e14c12ddb80b4d33b700bf18774ed19c0f9\"},\"whatYouWillLearn\":\"abc\",\"courseContent\":[{\"_id\":\"66e28dcae03af0d0f22e0ed2\",\"sectionName\":\"Introduction\",\"subSection\":[{\"_id\":\"66e28dfbe03af0d0f22e0ed7\",\"title\":\"x clone\",\"timeDuration\":\"77.543278\",\"description\":\"abc\",\"videoUrl\":\"https://res.cloudinary.com/dizy4a4m2/video/upload/v1726123514/StudyNotion/lfkfcmqalfounw0ptryv.mp4\",\"type\":\"video\",\"__v\":0},{\"_id\":\"66e28e14e03af0d0f22e0edc\",\"title\":\"my pdf\",\"description\":\"abc\",\"pdfUrl\":\"https://res.cloudinary.com/dizy4a4m2/image/upload/v1726123539/StudyNotion/x3azovkp6vbv432u3pqo.pdf\",\"fileName\":\"Internshala web development course certificate.pdf\",\"type\":\"pdf\",\"__v\":0}],\"__v\":0}],\"ratingAndReviews\":[],\"price\":1,\"thumbnail\":\"https://res.cloudinary.com/dizy4a4m2/image/upload/v1726123442/StudyNotion/c6ezsewgotjavokng1sy.jpg\",\"tag\":[\"abc\"],\"category\":\"6677ae7494efc71f04421807\",\"studentsEnrolled\":[],\"instructions\":[\"abc\"],\"status\":\"Published\",\"createdAt\":\"2024-09-12T06:44:03.240Z\",\"__v\":0}]}\n",
    "'''\n",
    "\n",
    "def download_video(url, output_path):\n",
    "    print(f\"Downloading video from {url}\")\n",
    "    response = requests.get(url, stream=True)\n",
    "    response.raise_for_status()\n",
    "    \n",
    "    total_size = int(response.headers.get('content-length', 0))\n",
    "    block_size = 1024  # 1 KB\n",
    "    downloaded = 0\n",
    "\n",
    "    with open(output_path, 'wb') as file:\n",
    "        for data in response.iter_content(block_size):\n",
    "            size = file.write(data)\n",
    "            downloaded += size\n",
    "            percent = int(50 * downloaded / total_size)\n",
    "            print(f\"\\rProgress: [{'#' * percent}{'.' * (50-percent)}] {downloaded}/{total_size} bytes\", end='')\n",
    "    \n",
    "    print(\"\\nDownload complete!\")\n",
    "\n",
    "try:\n",
    "    # Parse the JSON response\n",
    "    data = json.loads(api_response)\n",
    "\n",
    "    # Extract the video URL\n",
    "    video_url = data['data'][0]['courseContent'][0]['subSection'][0]['videoUrl']\n",
    "\n",
    "    # Set the output path for the downloaded video\n",
    "    output_path = \"downloaded_video.mp4\"\n",
    "\n",
    "    # Download the video\n",
    "    download_video(video_url, output_path)\n",
    "\n",
    "    print(f\"Video downloaded successfully. You can find it at: {output_path}\")\n",
    "\n",
    "except json.JSONDecodeError:\n",
    "    print(\"Error: Invalid JSON response\")\n",
    "except KeyError:\n",
    "    print(\"Error: Unable to find video URL in the API response\")\n",
    "except requests.RequestException as e:\n",
    "    print(f\"Error downloading the video: {e}\")\n",
    "except IOError:\n",
    "    print(\"Error: Unable to write the video file\")\n",
    "except Exception as e:\n",
    "    print(f\"An unexpected error occurred: {e}\")"
   ]
  },
  {
   "cell_type": "code",
   "execution_count": null,
   "id": "cbdbb18a-b250-4bbd-8c68-a6aa5ce91189",
   "metadata": {},
   "outputs": [],
   "source": []
  }
 ],
 "metadata": {
  "kernelspec": {
   "display_name": "Python 3 (ipykernel)",
   "language": "python",
   "name": "python3"
  },
  "language_info": {
   "codemirror_mode": {
    "name": "ipython",
    "version": 3
   },
   "file_extension": ".py",
   "mimetype": "text/x-python",
   "name": "python",
   "nbconvert_exporter": "python",
   "pygments_lexer": "ipython3",
   "version": "3.12.1"
  }
 },
 "nbformat": 4,
 "nbformat_minor": 5
}
